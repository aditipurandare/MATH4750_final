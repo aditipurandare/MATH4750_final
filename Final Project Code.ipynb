{
 "cells": [
  {
   "cell_type": "code",
   "execution_count": 5,
   "id": "780efa52",
   "metadata": {},
   "outputs": [],
   "source": []
  },
  {
   "cell_type": "code",
   "execution_count": 9,
   "id": "ee70811b",
   "metadata": {},
   "outputs": [
    {
     "name": "stderr",
     "output_type": "stream",
     "text": [
      "/var/folders/98/s74dqh4j6sl40rm5n7z1y4zr0000gn/T/ipykernel_38521/3966812348.py:9: FutureWarning: The frame.append method is deprecated and will be removed from pandas in a future version. Use pandas.concat instead.\n",
      "  df = df.append(df_tmp, ignore_index=True,sort=False)\n",
      "/var/folders/98/s74dqh4j6sl40rm5n7z1y4zr0000gn/T/ipykernel_38521/3966812348.py:9: FutureWarning: The frame.append method is deprecated and will be removed from pandas in a future version. Use pandas.concat instead.\n",
      "  df = df.append(df_tmp, ignore_index=True,sort=False)\n",
      "/var/folders/98/s74dqh4j6sl40rm5n7z1y4zr0000gn/T/ipykernel_38521/3966812348.py:9: FutureWarning: The frame.append method is deprecated and will be removed from pandas in a future version. Use pandas.concat instead.\n",
      "  df = df.append(df_tmp, ignore_index=True,sort=False)\n",
      "/var/folders/98/s74dqh4j6sl40rm5n7z1y4zr0000gn/T/ipykernel_38521/3966812348.py:9: FutureWarning: The frame.append method is deprecated and will be removed from pandas in a future version. Use pandas.concat instead.\n",
      "  df = df.append(df_tmp, ignore_index=True,sort=False)\n",
      "/var/folders/98/s74dqh4j6sl40rm5n7z1y4zr0000gn/T/ipykernel_38521/3966812348.py:9: FutureWarning: The frame.append method is deprecated and will be removed from pandas in a future version. Use pandas.concat instead.\n",
      "  df = df.append(df_tmp, ignore_index=True,sort=False)\n",
      "/var/folders/98/s74dqh4j6sl40rm5n7z1y4zr0000gn/T/ipykernel_38521/3966812348.py:9: FutureWarning: The frame.append method is deprecated and will be removed from pandas in a future version. Use pandas.concat instead.\n",
      "  df = df.append(df_tmp, ignore_index=True,sort=False)\n",
      "/var/folders/98/s74dqh4j6sl40rm5n7z1y4zr0000gn/T/ipykernel_38521/3966812348.py:9: FutureWarning: The frame.append method is deprecated and will be removed from pandas in a future version. Use pandas.concat instead.\n",
      "  df = df.append(df_tmp, ignore_index=True,sort=False)\n",
      "/var/folders/98/s74dqh4j6sl40rm5n7z1y4zr0000gn/T/ipykernel_38521/3966812348.py:9: FutureWarning: The frame.append method is deprecated and will be removed from pandas in a future version. Use pandas.concat instead.\n",
      "  df = df.append(df_tmp, ignore_index=True,sort=False)\n",
      "/var/folders/98/s74dqh4j6sl40rm5n7z1y4zr0000gn/T/ipykernel_38521/3966812348.py:9: FutureWarning: The frame.append method is deprecated and will be removed from pandas in a future version. Use pandas.concat instead.\n",
      "  df = df.append(df_tmp, ignore_index=True,sort=False)\n",
      "/var/folders/98/s74dqh4j6sl40rm5n7z1y4zr0000gn/T/ipykernel_38521/3966812348.py:9: FutureWarning: The frame.append method is deprecated and will be removed from pandas in a future version. Use pandas.concat instead.\n",
      "  df = df.append(df_tmp, ignore_index=True,sort=False)\n",
      "/var/folders/98/s74dqh4j6sl40rm5n7z1y4zr0000gn/T/ipykernel_38521/3966812348.py:9: FutureWarning: The frame.append method is deprecated and will be removed from pandas in a future version. Use pandas.concat instead.\n",
      "  df = df.append(df_tmp, ignore_index=True,sort=False)\n",
      "/var/folders/98/s74dqh4j6sl40rm5n7z1y4zr0000gn/T/ipykernel_38521/3966812348.py:9: FutureWarning: The frame.append method is deprecated and will be removed from pandas in a future version. Use pandas.concat instead.\n",
      "  df = df.append(df_tmp, ignore_index=True,sort=False)\n",
      "/var/folders/98/s74dqh4j6sl40rm5n7z1y4zr0000gn/T/ipykernel_38521/3966812348.py:9: FutureWarning: The frame.append method is deprecated and will be removed from pandas in a future version. Use pandas.concat instead.\n",
      "  df = df.append(df_tmp, ignore_index=True,sort=False)\n",
      "/var/folders/98/s74dqh4j6sl40rm5n7z1y4zr0000gn/T/ipykernel_38521/3966812348.py:9: FutureWarning: The frame.append method is deprecated and will be removed from pandas in a future version. Use pandas.concat instead.\n",
      "  df = df.append(df_tmp, ignore_index=True,sort=False)\n",
      "/var/folders/98/s74dqh4j6sl40rm5n7z1y4zr0000gn/T/ipykernel_38521/3966812348.py:9: FutureWarning: The frame.append method is deprecated and will be removed from pandas in a future version. Use pandas.concat instead.\n",
      "  df = df.append(df_tmp, ignore_index=True,sort=False)\n",
      "/var/folders/98/s74dqh4j6sl40rm5n7z1y4zr0000gn/T/ipykernel_38521/3966812348.py:9: FutureWarning: The frame.append method is deprecated and will be removed from pandas in a future version. Use pandas.concat instead.\n",
      "  df = df.append(df_tmp, ignore_index=True,sort=False)\n",
      "/var/folders/98/s74dqh4j6sl40rm5n7z1y4zr0000gn/T/ipykernel_38521/3966812348.py:9: FutureWarning: The frame.append method is deprecated and will be removed from pandas in a future version. Use pandas.concat instead.\n",
      "  df = df.append(df_tmp, ignore_index=True,sort=False)\n",
      "/var/folders/98/s74dqh4j6sl40rm5n7z1y4zr0000gn/T/ipykernel_38521/3966812348.py:9: FutureWarning: The frame.append method is deprecated and will be removed from pandas in a future version. Use pandas.concat instead.\n",
      "  df = df.append(df_tmp, ignore_index=True,sort=False)\n",
      "/var/folders/98/s74dqh4j6sl40rm5n7z1y4zr0000gn/T/ipykernel_38521/3966812348.py:9: FutureWarning: The frame.append method is deprecated and will be removed from pandas in a future version. Use pandas.concat instead.\n",
      "  df = df.append(df_tmp, ignore_index=True,sort=False)\n",
      "/var/folders/98/s74dqh4j6sl40rm5n7z1y4zr0000gn/T/ipykernel_38521/3966812348.py:9: FutureWarning: The frame.append method is deprecated and will be removed from pandas in a future version. Use pandas.concat instead.\n",
      "  df = df.append(df_tmp, ignore_index=True,sort=False)\n",
      "/var/folders/98/s74dqh4j6sl40rm5n7z1y4zr0000gn/T/ipykernel_38521/3966812348.py:9: FutureWarning: The frame.append method is deprecated and will be removed from pandas in a future version. Use pandas.concat instead.\n",
      "  df = df.append(df_tmp, ignore_index=True,sort=False)\n",
      "/var/folders/98/s74dqh4j6sl40rm5n7z1y4zr0000gn/T/ipykernel_38521/3966812348.py:9: FutureWarning: The frame.append method is deprecated and will be removed from pandas in a future version. Use pandas.concat instead.\n",
      "  df = df.append(df_tmp, ignore_index=True,sort=False)\n",
      "/var/folders/98/s74dqh4j6sl40rm5n7z1y4zr0000gn/T/ipykernel_38521/3966812348.py:9: FutureWarning: The frame.append method is deprecated and will be removed from pandas in a future version. Use pandas.concat instead.\n",
      "  df = df.append(df_tmp, ignore_index=True,sort=False)\n",
      "/var/folders/98/s74dqh4j6sl40rm5n7z1y4zr0000gn/T/ipykernel_38521/3966812348.py:9: FutureWarning: The frame.append method is deprecated and will be removed from pandas in a future version. Use pandas.concat instead.\n",
      "  df = df.append(df_tmp, ignore_index=True,sort=False)\n",
      "/var/folders/98/s74dqh4j6sl40rm5n7z1y4zr0000gn/T/ipykernel_38521/3966812348.py:9: FutureWarning: The frame.append method is deprecated and will be removed from pandas in a future version. Use pandas.concat instead.\n",
      "  df = df.append(df_tmp, ignore_index=True,sort=False)\n",
      "/var/folders/98/s74dqh4j6sl40rm5n7z1y4zr0000gn/T/ipykernel_38521/3966812348.py:9: FutureWarning: The frame.append method is deprecated and will be removed from pandas in a future version. Use pandas.concat instead.\n",
      "  df = df.append(df_tmp, ignore_index=True,sort=False)\n"
     ]
    },
    {
     "name": "stdout",
     "output_type": "stream",
     "text": [
      "3721\n"
     ]
    },
    {
     "name": "stderr",
     "output_type": "stream",
     "text": [
      "/var/folders/98/s74dqh4j6sl40rm5n7z1y4zr0000gn/T/ipykernel_38521/3966812348.py:9: FutureWarning: The frame.append method is deprecated and will be removed from pandas in a future version. Use pandas.concat instead.\n",
      "  df = df.append(df_tmp, ignore_index=True,sort=False)\n",
      "/var/folders/98/s74dqh4j6sl40rm5n7z1y4zr0000gn/T/ipykernel_38521/3966812348.py:9: FutureWarning: The frame.append method is deprecated and will be removed from pandas in a future version. Use pandas.concat instead.\n",
      "  df = df.append(df_tmp, ignore_index=True,sort=False)\n",
      "/var/folders/98/s74dqh4j6sl40rm5n7z1y4zr0000gn/T/ipykernel_38521/3966812348.py:9: FutureWarning: The frame.append method is deprecated and will be removed from pandas in a future version. Use pandas.concat instead.\n",
      "  df = df.append(df_tmp, ignore_index=True,sort=False)\n",
      "/var/folders/98/s74dqh4j6sl40rm5n7z1y4zr0000gn/T/ipykernel_38521/3966812348.py:9: FutureWarning: The frame.append method is deprecated and will be removed from pandas in a future version. Use pandas.concat instead.\n",
      "  df = df.append(df_tmp, ignore_index=True,sort=False)\n",
      "/var/folders/98/s74dqh4j6sl40rm5n7z1y4zr0000gn/T/ipykernel_38521/3966812348.py:9: FutureWarning: The frame.append method is deprecated and will be removed from pandas in a future version. Use pandas.concat instead.\n",
      "  df = df.append(df_tmp, ignore_index=True,sort=False)\n",
      "/var/folders/98/s74dqh4j6sl40rm5n7z1y4zr0000gn/T/ipykernel_38521/3966812348.py:9: FutureWarning: The frame.append method is deprecated and will be removed from pandas in a future version. Use pandas.concat instead.\n",
      "  df = df.append(df_tmp, ignore_index=True,sort=False)\n"
     ]
    }
   ],
   "source": [
    "import pandas as pd\n",
    "\n",
    "df = pd.DataFrame()\n",
    "xlfname = 'mrtssales92-present (1).xlsx'\n",
    "xl = pd.ExcelFile(xlfname)\n",
    "\n",
    "for sheet in xl.sheet_names:\n",
    "    df_tmp = xl.parse(sheet)\n",
    "    df = df.append(df_tmp, ignore_index=True,sort=False)\n",
    "\n",
    "print(len(df))\n",
    "\n",
    "csvfile = 'sample.csv'\n",
    "df.to_csv(csvfile, index=False)"
   ]
  },
  {
   "cell_type": "code",
   "execution_count": null,
   "id": "9fd80782",
   "metadata": {},
   "outputs": [],
   "source": []
  }
 ],
 "metadata": {
  "kernelspec": {
   "display_name": "Python 3 (ipykernel)",
   "language": "python",
   "name": "python3"
  },
  "language_info": {
   "codemirror_mode": {
    "name": "ipython",
    "version": 3
   },
   "file_extension": ".py",
   "mimetype": "text/x-python",
   "name": "python",
   "nbconvert_exporter": "python",
   "pygments_lexer": "ipython3",
   "version": "3.11.4"
  }
 },
 "nbformat": 4,
 "nbformat_minor": 5
}
